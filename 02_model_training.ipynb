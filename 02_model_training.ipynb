{
  "nbformat": 4,
  "nbformat_minor": 0,
  "metadata": {
    "colab": {
      "provenance": []
    },
    "kernelspec": {
      "name": "python3",
      "display_name": "Python 3"
    },
    "language_info": {
      "name": "python"
    }
  },
  "cells": [
    {
      "cell_type": "code",
      "execution_count": 2,
      "metadata": {
        "colab": {
          "base_uri": "https://localhost:8080/"
        },
        "id": "SEKIfwhyHGGZ",
        "outputId": "66fd72aa-edeb-462a-8bc4-7ee7a89a88b7"
      },
      "outputs": [
        {
          "output_type": "stream",
          "name": "stdout",
          "text": [
            "Mounted at /content/drive\n"
          ]
        }
      ],
      "source": [
        "from google.colab import drive\n",
        "drive.mount('/content/drive')"
      ]
    },
    {
      "cell_type": "code",
      "source": [
        "import pandas as pd\n",
        "import matplotlib.pyplot as plt\n",
        "import seaborn as sns\n",
        "from sklearn.model_selection import train_test_split\n",
        "from sklearn.ensemble import RandomForestClassifier\n",
        "from sklearn.metrics import classification_report, confusion_matrix, roc_auc_score"
      ],
      "metadata": {
        "id": "a0OcuKXFI-Mh"
      },
      "execution_count": 3,
      "outputs": []
    },
    {
      "cell_type": "markdown",
      "source": [
        " ## Step 1: Load data"
      ],
      "metadata": {
        "id": "Wcwzgq6lKVpr"
      }
    },
    {
      "cell_type": "code",
      "source": [
        "import pandas as pd\n",
        "\n",
        "csv_path = \"/content/drive/MyDrive/Colab Notebooks/final_year_project/mirna_features.csv\"\n",
        "df = pd.read_csv(csv_path)\n",
        "\n",
        "print(df.head())\n"
      ],
      "metadata": {
        "colab": {
          "base_uri": "https://localhost:8080/"
        },
        "id": "I1npOxYGKZLe",
        "outputId": "e37b7daa-dd26-4cfd-fe8d-7084defe39b2"
      },
      "execution_count": 4,
      "outputs": [
        {
          "output_type": "stream",
          "name": "stdout",
          "text": [
            "          miRNA  label  length  gc_content  au_content\n",
            "0   hsa-mir-575      1      19    0.631579    0.368421\n",
            "1  hsa-mir-451a      1      22    0.363636    0.636364\n",
            "2   hsa-mir-484      1      22    0.636364    0.363636\n",
            "3  hsa-mir-1297      1      17    0.352941    0.647059\n",
            "4  hsa-mir-5100      1      22    0.590909    0.409091\n"
          ]
        }
      ]
    },
    {
      "cell_type": "markdown",
      "source": [
        "## Step 2: Prepare input features and target"
      ],
      "metadata": {
        "id": "qt1-SP5uKiP-"
      }
    },
    {
      "cell_type": "code",
      "source": [
        "X = df[['length', 'gc_content', 'au_content']]\n",
        "y = df['label']"
      ],
      "metadata": {
        "id": "q8LKXlHJKnWe"
      },
      "execution_count": 5,
      "outputs": []
    },
    {
      "cell_type": "markdown",
      "source": [
        "## Step 3: Train-test split"
      ],
      "metadata": {
        "id": "16n3zo_qKq8N"
      }
    },
    {
      "cell_type": "code",
      "source": [
        "X_train, X_test, y_train, y_test = train_test_split(X, y, test_size=0.2, random_state=42)\n"
      ],
      "metadata": {
        "id": "d3037WhdK9xC"
      },
      "execution_count": 6,
      "outputs": []
    },
    {
      "cell_type": "markdown",
      "source": [
        "## Step 4: Train a Random Forest model"
      ],
      "metadata": {
        "id": "CHGIvnevLB3W"
      }
    },
    {
      "cell_type": "code",
      "source": [
        "clf = RandomForestClassifier(n_estimators=100, random_state=42)\n",
        "# clf.fit(X_train, y_train)"
      ],
      "metadata": {
        "id": "U2k8WsQfLGoA"
      },
      "execution_count": 15,
      "outputs": []
    },
    {
      "cell_type": "markdown",
      "source": [
        "## Step 5: Predictions and evaluation"
      ],
      "metadata": {
        "id": "waLwQr9LLoLy"
      }
    },
    {
      "cell_type": "code",
      "source": [
        "y_pred = clf.predict(X_test)\n",
        "y_proba = clf.predict_proba(X_test)[:, 1]"
      ],
      "metadata": {
        "id": "rC2iBGfLLplD"
      },
      "execution_count": 8,
      "outputs": []
    },
    {
      "cell_type": "markdown",
      "source": [
        "## Step 6: Metrics report"
      ],
      "metadata": {
        "id": "R24xEvSlLs8D"
      }
    },
    {
      "cell_type": "code",
      "source": [
        "print(\"Classification Report:\\n\", classification_report(y_test, y_pred))\n",
        "print(\"ROC-AUC Score:\", roc_auc_score(y_test, y_proba))"
      ],
      "metadata": {
        "colab": {
          "base_uri": "https://localhost:8080/"
        },
        "id": "1NW6tAAULwau",
        "outputId": "134cabba-aa31-4ec1-94ba-0f4f1ffac70c"
      },
      "execution_count": 9,
      "outputs": [
        {
          "output_type": "stream",
          "name": "stdout",
          "text": [
            "Classification Report:\n",
            "               precision    recall  f1-score   support\n",
            "\n",
            "           0       0.51      0.55      0.53        60\n",
            "           1       0.29      0.26      0.27        43\n",
            "\n",
            "    accuracy                           0.43       103\n",
            "   macro avg       0.40      0.40      0.40       103\n",
            "weighted avg       0.42      0.43      0.42       103\n",
            "\n",
            "ROC-AUC Score: 0.38953488372093026\n"
          ]
        }
      ]
    },
    {
      "cell_type": "markdown",
      "source": [
        "## Step 7: Confusion Matrix"
      ],
      "metadata": {
        "id": "oI4xdkFWL1FU"
      }
    },
    {
      "cell_type": "code",
      "source": [
        "# Plot confusion matrix\n",
        "cm = confusion_matrix(y_test, y_pred)\n",
        "\n",
        "plt.figure(figsize=(5, 4))\n",
        "sns.heatmap(cm, annot=True, fmt=\"d\", cmap=\"Blues\")\n",
        "plt.title(\"Confusion Matrix\")\n",
        "plt.xlabel(\"Predicted\")\n",
        "plt.ylabel(\"Actual\")\n",
        "plt.tight_layout()\n",
        "plt.show()\n"
      ],
      "metadata": {
        "colab": {
          "base_uri": "https://localhost:8080/",
          "height": 407
        },
        "id": "1X2OeTRVL4Ze",
        "outputId": "79826a75-ed29-46a6-f289-061fece91690"
      },
      "execution_count": 10,
      "outputs": [
        {
          "output_type": "display_data",
          "data": {
            "text/plain": [
              "<Figure size 500x400 with 2 Axes>"
            ],
            "image/png": "[encoded data removed]"
          },
          "metadata": {}
        }
      ]
    },
    {
      "cell_type": "markdown",
      "source": [
        "## Step 8: Feature Importance"
      ],
      "metadata": {
        "id": "cLJYtB3OL72T"
      }
    },
    {
      "cell_type": "code",
      "source": [
        "# Feature importance plot\n",
        "importances = clf.feature_importances_\n",
        "feature_names = X.columns\n",
        "\n",
        "plt.figure(figsize=(5, 3))\n",
        "sns.barplot(x=importances, y=feature_names)\n",
        "plt.title(\"Feature Importances\")\n",
        "plt.tight_layout()\n",
        "plt.show()\n"
      ],
      "metadata": {
        "colab": {
          "base_uri": "https://localhost:8080/",
          "height": 307
        },
        "id": "CbgvFoILMAbU",
        "outputId": "9a91251d-e963-4b64-ea78-482e8249d52b"
      },
      "execution_count": 11,
      "outputs": [
        {
          "output_type": "display_data",
          "data": {
            "text/plain": [
              "<Figure size 500x300 with 1 Axes>"
            ],
            "image/png": "[encoded data removed]"
          },
          "metadata": {}
        }
      ]
    },
    {
      "cell_type": "code",
      "source": [
        "# Save predictions and probabilities\n",
        "df_out = X_test.copy()\n",
        "df_out['actual'] = y_test.values\n",
        "df_out['predicted'] = y_pred\n",
        "df_out['probability'] = y_proba\n",
        "df_out.to_csv(\"model_output.csv\", index=False)"
      ],
      "metadata": {
        "id": "wT7eW365MF2U"
      },
      "execution_count": 12,
      "outputs": []
    },
    {
      "cell_type": "code",
      "source": [
        "from google.colab import files\n",
        "files.download(\"model_output.csv\")"
      ],
      "metadata": {
        "colab": {
          "base_uri": "https://localhost:8080/",
          "height": 17
        },
        "id": "pXKLXV94MQZ9",
        "outputId": "85888d9f-7e7d-4566-c051-3305937b0729"
      },
      "execution_count": 13,
      "outputs": [
        {
          "output_type": "display_data",
          "data": {
            "text/plain": [
              "<IPython.core.display.Javascript object>"
            ],
            "application/javascript": [
              "\n",
              "    async function download(id, filename, size) {\n",
              "      if (!google.colab.kernel.accessAllowed) {\n",
              "        return;\n",
              "      }\n",
              "      const div = document.createElement('div');\n",
              "      const label = document.createElement('label');\n",
              "      label.textContent = `Downloading \"${filename}\": `;\n",
              "      div.appendChild(label);\n",
              "      const progress = document.createElement('progress');\n",
              "      progress.max = size;\n",
              "      div.appendChild(progress);\n",
              "      document.body.appendChild(div);\n",
              "\n",
              "      const buffers = [];\n",
              "      let downloaded = 0;\n",
              "\n",
              "      const channel = await google.colab.kernel.comms.open(id);\n",
              "      // Send a message to notify the kernel that we're ready.\n",
              "      channel.send({})\n",
              "\n",
              "      for await (const message of channel.messages) {\n",
              "        // Send a message to notify the kernel that we're ready.\n",
              "        channel.send({})\n",
              "        if (message.buffers) {\n",
              "          for (const buffer of message.buffers) {\n",
              "            buffers.push(buffer);\n",
              "            downloaded += buffer.byteLength;\n",
              "            progress.value = downloaded;\n",
              "          }\n",
              "        }\n",
              "      }\n",
              "      const blob = new Blob(buffers, {type: 'application/binary'});\n",
              "      const a = document.createElement('a');\n",
              "      a.href = window.URL.createObjectURL(blob);\n",
              "      a.download = filename;\n",
              "      div.appendChild(a);\n",
              "      a.click();\n",
              "      div.remove();\n",
              "    }\n",
              "  "
            ]
          },
          "metadata": {}
        },
        {
          "output_type": "display_data",
          "data": {
            "text/plain": [
              "<IPython.core.display.Javascript object>"
            ],
            "application/javascript": [
              "download(\"download_773b519a-5db0-4dbc-b3b5-b126a805a773\", \"model_output.csv\", 6162)"
            ]
          },
          "metadata": {}
        }
      ]
    }
  ]
}